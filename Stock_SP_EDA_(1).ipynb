{
  "nbformat": 4,
  "nbformat_minor": 0,
  "metadata": {
    "colab": {
      "provenance": [],
      "collapsed_sections": []
    },
    "kernelspec": {
      "name": "python3",
      "display_name": "Python 3"
    },
    "language_info": {
      "name": "python"
    }
  },
  "cells": [
    {
      "cell_type": "code",
      "execution_count": null,
      "metadata": {
        "colab": {
          "base_uri": "https://localhost:8080/"
        },
        "id": "p5yuaLL1T7AL",
        "outputId": "a38dbb19-855f-42f7-8384-bd1aebb7765a"
      },
      "outputs": [
        {
          "output_type": "stream",
          "name": "stdout",
          "text": [
            "Mounted at /content/drive\n"
          ]
        }
      ],
      "source": [
        "# load data:\n",
        "import pandas as pd\n",
        "import numpy as np\n",
        "from google.colab import drive\n",
        "drive.mount('/content/drive')"
      ]
    },
    {
      "cell_type": "code",
      "source": [
        "url = 'https://en.wikipedia.org/wiki/List_of_S%26P_500_companies'\n",
        "stocks_df = pd.read_html(url, header=0)[0]\n",
        "stocks_df.head()"
      ],
      "metadata": {
        "colab": {
          "base_uri": "https://localhost:8080/",
          "height": 206
        },
        "id": "7mlaD5b4Uhku",
        "outputId": "3c7a7525-ec60-489b-f778-09287e30a69e"
      },
      "execution_count": null,
      "outputs": [
        {
          "output_type": "execute_result",
          "data": {
            "text/plain": [
              "  Symbol     Security SEC filings  GICS Sector         GICS Sub-Industry  \\\n",
              "0    MMM           3M     reports  Industrials  Industrial Conglomerates   \n",
              "1    AOS  A. O. Smith     reports  Industrials         Building Products   \n",
              "2    ABT       Abbott     reports  Health Care     Health Care Equipment   \n",
              "3   ABBV       AbbVie     reports  Health Care           Pharmaceuticals   \n",
              "4   ABMD      Abiomed     reports  Health Care     Health Care Equipment   \n",
              "\n",
              "     Headquarters Location Date first added      CIK      Founded  \n",
              "0    Saint Paul, Minnesota       1976-08-09    66740         1902  \n",
              "1     Milwaukee, Wisconsin       2017-07-26    91142         1916  \n",
              "2  North Chicago, Illinois       1964-03-31     1800         1888  \n",
              "3  North Chicago, Illinois       2012-12-31  1551152  2013 (1888)  \n",
              "4   Danvers, Massachusetts       2018-05-31   815094         1981  "
            ],
            "text/html": [
              "\n",
              "  <div id=\"df-3f32c664-ebae-435a-a049-ebc473f54638\">\n",
              "    <div class=\"colab-df-container\">\n",
              "      <div>\n",
              "<style scoped>\n",
              "    .dataframe tbody tr th:only-of-type {\n",
              "        vertical-align: middle;\n",
              "    }\n",
              "\n",
              "    .dataframe tbody tr th {\n",
              "        vertical-align: top;\n",
              "    }\n",
              "\n",
              "    .dataframe thead th {\n",
              "        text-align: right;\n",
              "    }\n",
              "</style>\n",
              "<table border=\"1\" class=\"dataframe\">\n",
              "  <thead>\n",
              "    <tr style=\"text-align: right;\">\n",
              "      <th></th>\n",
              "      <th>Symbol</th>\n",
              "      <th>Security</th>\n",
              "      <th>SEC filings</th>\n",
              "      <th>GICS Sector</th>\n",
              "      <th>GICS Sub-Industry</th>\n",
              "      <th>Headquarters Location</th>\n",
              "      <th>Date first added</th>\n",
              "      <th>CIK</th>\n",
              "      <th>Founded</th>\n",
              "    </tr>\n",
              "  </thead>\n",
              "  <tbody>\n",
              "    <tr>\n",
              "      <th>0</th>\n",
              "      <td>MMM</td>\n",
              "      <td>3M</td>\n",
              "      <td>reports</td>\n",
              "      <td>Industrials</td>\n",
              "      <td>Industrial Conglomerates</td>\n",
              "      <td>Saint Paul, Minnesota</td>\n",
              "      <td>1976-08-09</td>\n",
              "      <td>66740</td>\n",
              "      <td>1902</td>\n",
              "    </tr>\n",
              "    <tr>\n",
              "      <th>1</th>\n",
              "      <td>AOS</td>\n",
              "      <td>A. O. Smith</td>\n",
              "      <td>reports</td>\n",
              "      <td>Industrials</td>\n",
              "      <td>Building Products</td>\n",
              "      <td>Milwaukee, Wisconsin</td>\n",
              "      <td>2017-07-26</td>\n",
              "      <td>91142</td>\n",
              "      <td>1916</td>\n",
              "    </tr>\n",
              "    <tr>\n",
              "      <th>2</th>\n",
              "      <td>ABT</td>\n",
              "      <td>Abbott</td>\n",
              "      <td>reports</td>\n",
              "      <td>Health Care</td>\n",
              "      <td>Health Care Equipment</td>\n",
              "      <td>North Chicago, Illinois</td>\n",
              "      <td>1964-03-31</td>\n",
              "      <td>1800</td>\n",
              "      <td>1888</td>\n",
              "    </tr>\n",
              "    <tr>\n",
              "      <th>3</th>\n",
              "      <td>ABBV</td>\n",
              "      <td>AbbVie</td>\n",
              "      <td>reports</td>\n",
              "      <td>Health Care</td>\n",
              "      <td>Pharmaceuticals</td>\n",
              "      <td>North Chicago, Illinois</td>\n",
              "      <td>2012-12-31</td>\n",
              "      <td>1551152</td>\n",
              "      <td>2013 (1888)</td>\n",
              "    </tr>\n",
              "    <tr>\n",
              "      <th>4</th>\n",
              "      <td>ABMD</td>\n",
              "      <td>Abiomed</td>\n",
              "      <td>reports</td>\n",
              "      <td>Health Care</td>\n",
              "      <td>Health Care Equipment</td>\n",
              "      <td>Danvers, Massachusetts</td>\n",
              "      <td>2018-05-31</td>\n",
              "      <td>815094</td>\n",
              "      <td>1981</td>\n",
              "    </tr>\n",
              "  </tbody>\n",
              "</table>\n",
              "</div>\n",
              "      <button class=\"colab-df-convert\" onclick=\"convertToInteractive('df-3f32c664-ebae-435a-a049-ebc473f54638')\"\n",
              "              title=\"Convert this dataframe to an interactive table.\"\n",
              "              style=\"display:none;\">\n",
              "        \n",
              "  <svg xmlns=\"http://www.w3.org/2000/svg\" height=\"24px\"viewBox=\"0 0 24 24\"\n",
              "       width=\"24px\">\n",
              "    <path d=\"M0 0h24v24H0V0z\" fill=\"none\"/>\n",
              "    <path d=\"M18.56 5.44l.94 2.06.94-2.06 2.06-.94-2.06-.94-.94-2.06-.94 2.06-2.06.94zm-11 1L8.5 8.5l.94-2.06 2.06-.94-2.06-.94L8.5 2.5l-.94 2.06-2.06.94zm10 10l.94 2.06.94-2.06 2.06-.94-2.06-.94-.94-2.06-.94 2.06-2.06.94z\"/><path d=\"M17.41 7.96l-1.37-1.37c-.4-.4-.92-.59-1.43-.59-.52 0-1.04.2-1.43.59L10.3 9.45l-7.72 7.72c-.78.78-.78 2.05 0 2.83L4 21.41c.39.39.9.59 1.41.59.51 0 1.02-.2 1.41-.59l7.78-7.78 2.81-2.81c.8-.78.8-2.07 0-2.86zM5.41 20L4 18.59l7.72-7.72 1.47 1.35L5.41 20z\"/>\n",
              "  </svg>\n",
              "      </button>\n",
              "      \n",
              "  <style>\n",
              "    .colab-df-container {\n",
              "      display:flex;\n",
              "      flex-wrap:wrap;\n",
              "      gap: 12px;\n",
              "    }\n",
              "\n",
              "    .colab-df-convert {\n",
              "      background-color: #E8F0FE;\n",
              "      border: none;\n",
              "      border-radius: 50%;\n",
              "      cursor: pointer;\n",
              "      display: none;\n",
              "      fill: #1967D2;\n",
              "      height: 32px;\n",
              "      padding: 0 0 0 0;\n",
              "      width: 32px;\n",
              "    }\n",
              "\n",
              "    .colab-df-convert:hover {\n",
              "      background-color: #E2EBFA;\n",
              "      box-shadow: 0px 1px 2px rgba(60, 64, 67, 0.3), 0px 1px 3px 1px rgba(60, 64, 67, 0.15);\n",
              "      fill: #174EA6;\n",
              "    }\n",
              "\n",
              "    [theme=dark] .colab-df-convert {\n",
              "      background-color: #3B4455;\n",
              "      fill: #D2E3FC;\n",
              "    }\n",
              "\n",
              "    [theme=dark] .colab-df-convert:hover {\n",
              "      background-color: #434B5C;\n",
              "      box-shadow: 0px 1px 3px 1px rgba(0, 0, 0, 0.15);\n",
              "      filter: drop-shadow(0px 1px 2px rgba(0, 0, 0, 0.3));\n",
              "      fill: #FFFFFF;\n",
              "    }\n",
              "  </style>\n",
              "\n",
              "      <script>\n",
              "        const buttonEl =\n",
              "          document.querySelector('#df-3f32c664-ebae-435a-a049-ebc473f54638 button.colab-df-convert');\n",
              "        buttonEl.style.display =\n",
              "          google.colab.kernel.accessAllowed ? 'block' : 'none';\n",
              "\n",
              "        async function convertToInteractive(key) {\n",
              "          const element = document.querySelector('#df-3f32c664-ebae-435a-a049-ebc473f54638');\n",
              "          const dataTable =\n",
              "            await google.colab.kernel.invokeFunction('convertToInteractive',\n",
              "                                                     [key], {});\n",
              "          if (!dataTable) return;\n",
              "\n",
              "          const docLinkHtml = 'Like what you see? Visit the ' +\n",
              "            '<a target=\"_blank\" href=https://colab.research.google.com/notebooks/data_table.ipynb>data table notebook</a>'\n",
              "            + ' to learn more about interactive tables.';\n",
              "          element.innerHTML = '';\n",
              "          dataTable['output_type'] = 'display_data';\n",
              "          await google.colab.output.renderOutput(dataTable, element);\n",
              "          const docLink = document.createElement('div');\n",
              "          docLink.innerHTML = docLinkHtml;\n",
              "          element.appendChild(docLink);\n",
              "        }\n",
              "      </script>\n",
              "    </div>\n",
              "  </div>\n",
              "  "
            ]
          },
          "metadata": {},
          "execution_count": 2
        }
      ]
    },
    {
      "cell_type": "code",
      "source": [
        "# Number of companies (there are mor because there are dual class stock structure and are listed more than once)\n",
        "len(stocks_df)"
      ],
      "metadata": {
        "colab": {
          "base_uri": "https://localhost:8080/"
        },
        "id": "fXSM2e98U8og",
        "outputId": "ad31783d-26ed-48cf-b30d-f8e37e5e119c"
      },
      "execution_count": null,
      "outputs": [
        {
          "output_type": "execute_result",
          "data": {
            "text/plain": [
              "503"
            ]
          },
          "metadata": {},
          "execution_count": 3
        }
      ]
    },
    {
      "cell_type": "code",
      "source": [
        "stocks_df['GICS Sector'].value_counts()"
      ],
      "metadata": {
        "colab": {
          "base_uri": "https://localhost:8080/"
        },
        "id": "FrFgdxlzVK-p",
        "outputId": "06416672-cde7-42af-fed8-b8cdf0149cb3"
      },
      "execution_count": null,
      "outputs": [
        {
          "output_type": "execute_result",
          "data": {
            "text/plain": [
              "Information Technology    75\n",
              "Industrials               71\n",
              "Financials                66\n",
              "Health Care               64\n",
              "Consumer Discretionary    56\n",
              "Consumer Staples          33\n",
              "Real Estate               31\n",
              "Utilities                 30\n",
              "Materials                 28\n",
              "Communication Services    26\n",
              "Energy                    23\n",
              "Name: GICS Sector, dtype: int64"
            ]
          },
          "metadata": {},
          "execution_count": 4
        }
      ]
    },
    {
      "cell_type": "code",
      "source": [
        "stocks_df['GICS Sub-Industry'].value_counts()"
      ],
      "metadata": {
        "colab": {
          "base_uri": "https://localhost:8080/"
        },
        "id": "R5jUZ_TiVhmV",
        "outputId": "388390af-df72-4ff3-9e43-1101edb6d0e6"
      },
      "execution_count": null,
      "outputs": [
        {
          "output_type": "execute_result",
          "data": {
            "text/plain": [
              "Health Care Equipment    19\n",
              "Semiconductors           14\n",
              "Industrial Machinery     14\n",
              "Multi-Utilities          13\n",
              "Application Software     13\n",
              "                         ..\n",
              "Diversified Chemicals     1\n",
              "Leisure Products          1\n",
              "Consumer Electronics      1\n",
              "Copper                    1\n",
              "Household Appliances      1\n",
              "Name: GICS Sub-Industry, Length: 122, dtype: int64"
            ]
          },
          "metadata": {},
          "execution_count": 5
        }
      ]
    },
    {
      "cell_type": "code",
      "source": [
        "# load output with close values of each company:\n",
        "#df_2019_1er = pd.read_excel('/content/drive/MyDrive/DAB103-DEMO/Project/trim_jan_mar_2019.xlsx', index_col=0)\n",
        "#df_2019_2er = pd.read_excel('/content/drive/MyDrive/DAB103-DEMO/Project/trim_apr_jun_2019.xlsx', index_col=0)\n",
        "\n",
        "#df_2019_4to = pd.read_excel('/content/drive/MyDrive/DAB103-DEMO/Project/trim_oct_dic_2019.xlsx', index_col=0)\n",
        "df_2020_1er = pd.read_excel('/content/drive/MyDrive/DB103-DEMO/Project/trim_jan_mar_2020.xlsx', index_col=0)\n",
        "#df_2021 = pd.read_excel('/content/drive/MyDrive/DAB103-DEMO/Project/trim_jan_mar_2021.xlsx', index_col=0)\n",
        "\n",
        "df_shares = pd.read_excel('/content/drive/MyDrive/DB103-DEMO/Project/Shares_Companies.xlsx', index_col=0)\n",
        "\n",
        "\n",
        "#df_2019_1er.reset_index(inplace = True)\n",
        "#df_2019_2er.reset_index(inplace = True)\n",
        "df_2020_1er.reset_index(inplace = True)\n",
        "#df_2019_4to.reset_index(inplace = True)\n",
        "#df_2021.reset_index(inplace = True)\n",
        "df_shares.reset_index(inplace = True)"
      ],
      "metadata": {
        "id": "XMFC3EYAVprR"
      },
      "execution_count": null,
      "outputs": []
    },
    {
      "cell_type": "code",
      "source": [
        "df_shares"
      ],
      "metadata": {
        "colab": {
          "base_uri": "https://localhost:8080/",
          "height": 423
        },
        "id": "seqKvL-yW-SA",
        "outputId": "4e676e32-f5e1-4dad-b5c5-e3b2b3e89ff1"
      },
      "execution_count": null,
      "outputs": [
        {
          "output_type": "execute_result",
          "data": {
            "text/plain": [
              "           Shares Symbol\n",
              "0    5.536140e+08    MMM\n",
              "1    1.284770e+08    AOS\n",
              "2    1.751220e+09    ABT\n",
              "3    1.768100e+09   ABBV\n",
              "4    4.546090e+07   ABMD\n",
              "..            ...    ...\n",
              "498  2.845420e+08    YUM\n",
              "499  5.178990e+07   ZBRA\n",
              "500  2.098200e+08    ZBH\n",
              "501  1.504710e+08   ZION\n",
              "502  4.681390e+08    ZTS\n",
              "\n",
              "[503 rows x 2 columns]"
            ],
            "text/html": [
              "\n",
              "  <div id=\"df-d49da687-a07c-4f6d-a0b0-be2f05481ba8\">\n",
              "    <div class=\"colab-df-container\">\n",
              "      <div>\n",
              "<style scoped>\n",
              "    .dataframe tbody tr th:only-of-type {\n",
              "        vertical-align: middle;\n",
              "    }\n",
              "\n",
              "    .dataframe tbody tr th {\n",
              "        vertical-align: top;\n",
              "    }\n",
              "\n",
              "    .dataframe thead th {\n",
              "        text-align: right;\n",
              "    }\n",
              "</style>\n",
              "<table border=\"1\" class=\"dataframe\">\n",
              "  <thead>\n",
              "    <tr style=\"text-align: right;\">\n",
              "      <th></th>\n",
              "      <th>Shares</th>\n",
              "      <th>Symbol</th>\n",
              "    </tr>\n",
              "  </thead>\n",
              "  <tbody>\n",
              "    <tr>\n",
              "      <th>0</th>\n",
              "      <td>5.536140e+08</td>\n",
              "      <td>MMM</td>\n",
              "    </tr>\n",
              "    <tr>\n",
              "      <th>1</th>\n",
              "      <td>1.284770e+08</td>\n",
              "      <td>AOS</td>\n",
              "    </tr>\n",
              "    <tr>\n",
              "      <th>2</th>\n",
              "      <td>1.751220e+09</td>\n",
              "      <td>ABT</td>\n",
              "    </tr>\n",
              "    <tr>\n",
              "      <th>3</th>\n",
              "      <td>1.768100e+09</td>\n",
              "      <td>ABBV</td>\n",
              "    </tr>\n",
              "    <tr>\n",
              "      <th>4</th>\n",
              "      <td>4.546090e+07</td>\n",
              "      <td>ABMD</td>\n",
              "    </tr>\n",
              "    <tr>\n",
              "      <th>...</th>\n",
              "      <td>...</td>\n",
              "      <td>...</td>\n",
              "    </tr>\n",
              "    <tr>\n",
              "      <th>498</th>\n",
              "      <td>2.845420e+08</td>\n",
              "      <td>YUM</td>\n",
              "    </tr>\n",
              "    <tr>\n",
              "      <th>499</th>\n",
              "      <td>5.178990e+07</td>\n",
              "      <td>ZBRA</td>\n",
              "    </tr>\n",
              "    <tr>\n",
              "      <th>500</th>\n",
              "      <td>2.098200e+08</td>\n",
              "      <td>ZBH</td>\n",
              "    </tr>\n",
              "    <tr>\n",
              "      <th>501</th>\n",
              "      <td>1.504710e+08</td>\n",
              "      <td>ZION</td>\n",
              "    </tr>\n",
              "    <tr>\n",
              "      <th>502</th>\n",
              "      <td>4.681390e+08</td>\n",
              "      <td>ZTS</td>\n",
              "    </tr>\n",
              "  </tbody>\n",
              "</table>\n",
              "<p>503 rows × 2 columns</p>\n",
              "</div>\n",
              "      <button class=\"colab-df-convert\" onclick=\"convertToInteractive('df-d49da687-a07c-4f6d-a0b0-be2f05481ba8')\"\n",
              "              title=\"Convert this dataframe to an interactive table.\"\n",
              "              style=\"display:none;\">\n",
              "        \n",
              "  <svg xmlns=\"http://www.w3.org/2000/svg\" height=\"24px\"viewBox=\"0 0 24 24\"\n",
              "       width=\"24px\">\n",
              "    <path d=\"M0 0h24v24H0V0z\" fill=\"none\"/>\n",
              "    <path d=\"M18.56 5.44l.94 2.06.94-2.06 2.06-.94-2.06-.94-.94-2.06-.94 2.06-2.06.94zm-11 1L8.5 8.5l.94-2.06 2.06-.94-2.06-.94L8.5 2.5l-.94 2.06-2.06.94zm10 10l.94 2.06.94-2.06 2.06-.94-2.06-.94-.94-2.06-.94 2.06-2.06.94z\"/><path d=\"M17.41 7.96l-1.37-1.37c-.4-.4-.92-.59-1.43-.59-.52 0-1.04.2-1.43.59L10.3 9.45l-7.72 7.72c-.78.78-.78 2.05 0 2.83L4 21.41c.39.39.9.59 1.41.59.51 0 1.02-.2 1.41-.59l7.78-7.78 2.81-2.81c.8-.78.8-2.07 0-2.86zM5.41 20L4 18.59l7.72-7.72 1.47 1.35L5.41 20z\"/>\n",
              "  </svg>\n",
              "      </button>\n",
              "      \n",
              "  <style>\n",
              "    .colab-df-container {\n",
              "      display:flex;\n",
              "      flex-wrap:wrap;\n",
              "      gap: 12px;\n",
              "    }\n",
              "\n",
              "    .colab-df-convert {\n",
              "      background-color: #E8F0FE;\n",
              "      border: none;\n",
              "      border-radius: 50%;\n",
              "      cursor: pointer;\n",
              "      display: none;\n",
              "      fill: #1967D2;\n",
              "      height: 32px;\n",
              "      padding: 0 0 0 0;\n",
              "      width: 32px;\n",
              "    }\n",
              "\n",
              "    .colab-df-convert:hover {\n",
              "      background-color: #E2EBFA;\n",
              "      box-shadow: 0px 1px 2px rgba(60, 64, 67, 0.3), 0px 1px 3px 1px rgba(60, 64, 67, 0.15);\n",
              "      fill: #174EA6;\n",
              "    }\n",
              "\n",
              "    [theme=dark] .colab-df-convert {\n",
              "      background-color: #3B4455;\n",
              "      fill: #D2E3FC;\n",
              "    }\n",
              "\n",
              "    [theme=dark] .colab-df-convert:hover {\n",
              "      background-color: #434B5C;\n",
              "      box-shadow: 0px 1px 3px 1px rgba(0, 0, 0, 0.15);\n",
              "      filter: drop-shadow(0px 1px 2px rgba(0, 0, 0, 0.3));\n",
              "      fill: #FFFFFF;\n",
              "    }\n",
              "  </style>\n",
              "\n",
              "      <script>\n",
              "        const buttonEl =\n",
              "          document.querySelector('#df-d49da687-a07c-4f6d-a0b0-be2f05481ba8 button.colab-df-convert');\n",
              "        buttonEl.style.display =\n",
              "          google.colab.kernel.accessAllowed ? 'block' : 'none';\n",
              "\n",
              "        async function convertToInteractive(key) {\n",
              "          const element = document.querySelector('#df-d49da687-a07c-4f6d-a0b0-be2f05481ba8');\n",
              "          const dataTable =\n",
              "            await google.colab.kernel.invokeFunction('convertToInteractive',\n",
              "                                                     [key], {});\n",
              "          if (!dataTable) return;\n",
              "\n",
              "          const docLinkHtml = 'Like what you see? Visit the ' +\n",
              "            '<a target=\"_blank\" href=https://colab.research.google.com/notebooks/data_table.ipynb>data table notebook</a>'\n",
              "            + ' to learn more about interactive tables.';\n",
              "          element.innerHTML = '';\n",
              "          dataTable['output_type'] = 'display_data';\n",
              "          await google.colab.output.renderOutput(dataTable, element);\n",
              "          const docLink = document.createElement('div');\n",
              "          docLink.innerHTML = docLinkHtml;\n",
              "          element.appendChild(docLink);\n",
              "        }\n",
              "      </script>\n",
              "    </div>\n",
              "  </div>\n",
              "  "
            ]
          },
          "metadata": {},
          "execution_count": 7
        }
      ]
    },
    {
      "cell_type": "code",
      "source": [
        "#df_2019_4to"
      ],
      "metadata": {
        "id": "CMS4xWQyg0CG"
      },
      "execution_count": null,
      "outputs": []
    },
    {
      "cell_type": "code",
      "source": [
        "df_2020_1er = df_2020_1er[df_2020_1er['Attributes'] == 'Close']\n",
        "df_2020_1er = df_2020_1er[['Symbols','Jan_2020']]\n",
        "df_2020_1er['Jan_2020'] = round(df_2020_1er['Jan_2020'],2)\n",
        "df_2020_1er = df_2020_1er.rename(columns={\"Jan_2020\": \"Jan_2020\"})\n",
        "\n",
        "#df_2019_4to = df_2019_4to[df_2019_4to['Attributes'] == 'Close']\n",
        "#df_2019_4to = df_2019_4to[['Symbols','Dic_2019']]\n",
        "#df_2019_4to['Dic_2019'] = round(df_2019_4to['Dic_2019'],2)\n",
        "#df_2019_4to = df_2019_4to.rename(columns={\"Dic_2019\": \"Dic_2019\"})\n",
        "\n",
        "#df_2019_4to"
      ],
      "metadata": {
        "id": "cNT5mkmuaic8"
      },
      "execution_count": null,
      "outputs": []
    },
    {
      "cell_type": "code",
      "source": [
        "#df_2021 = df_2021[df_2021['Attributes'] == 'Close']\n",
        "#df_2021 = df_2021[['Symbols','Jan_2021']]\n",
        "#df_2021['Jan_2021'] = round(df_2021['Jan_2021'],2)\n",
        "#df_2021 = df_2021.rename(columns={\"Jan_2021\": \"Jan_2021\"})\n",
        "\n",
        "#df_2021"
      ],
      "metadata": {
        "id": "-iTKB2G-b9wR"
      },
      "execution_count": null,
      "outputs": []
    },
    {
      "cell_type": "code",
      "source": [
        "#df_shares['Shares'].fillna(0)\n",
        "#df_shares['Shares'].astype(int)\n",
        "df_shares = df_shares.rename(columns={\"Symbol\": \"Symbols\"})\n",
        "#df_shares[df_shares['Symbol'] == 'OTIS']\n",
        "#df_shares.tail()"
      ],
      "metadata": {
        "id": "X92OC48p-QCx"
      },
      "execution_count": null,
      "outputs": []
    },
    {
      "cell_type": "code",
      "source": [
        "#df_Avg_1 = df_2019_4to\n",
        "#df_Avg_1['Jan_2020']=df_2020_1er[['Jan_2020']]\n",
        "#df_Avg_1['Jan_2021'] = df_2021[['Jan_2021']]\n",
        "\n",
        "#df_Avg_1 = df_Avg_1.merge(df_shares, left_on='Symbols', right_on='Symbols', how='left')\n",
        "\n",
        "#df_Avg.merge(df_shares, on='Symbols', how='left')\n",
        "#df_Avg_1.head()"
      ],
      "metadata": {
        "id": "0N1WY5tbV1v-"
      },
      "execution_count": null,
      "outputs": []
    },
    {
      "cell_type": "code",
      "source": [
        "# delete nan from dataset, it has to be an average of 3 filled columns:\n",
        "#df_companies_na = df_Avg_1[df_Avg_1['Dic_2019'].isna() | df_Avg_1['Jan_2020'].isna() | df_Avg_1['Jan_2021'].isna()]\n",
        "#print('Companies that were removed from dataset: ' + str(df_companies_na['Symbols'].unique()))"
      ],
      "metadata": {
        "id": "ir517elzHoZ_"
      },
      "execution_count": null,
      "outputs": []
    },
    {
      "cell_type": "code",
      "source": [
        "#df_Avg_1 = df_Avg_1.dropna()\n",
        "#df_Avg_1['Shares'] = df_Avg_1['Shares'].astype(int)\n",
        "#df_Avg_1.head()"
      ],
      "metadata": {
        "id": "PgOWQ_6JBdZ6"
      },
      "execution_count": null,
      "outputs": []
    },
    {
      "cell_type": "code",
      "source": [
        "# adding the market cap:\n",
        "#df_Avg_1[\"Marketcap_Dic_2019\"] = df_Avg_1[\"Dic_2019\"] * df_Avg_1[\"Shares\"]\n",
        "#df_Avg_1[\"Marketcap_Dic_2019\"] = df_Avg_1[\"Marketcap_Dic_2019\"].astype(int)\n",
        "\n",
        "#df_Avg_1[\"Marketcap_Jan_2020\"] = df_Avg_1[\"Jan_2020\"] * df_Avg_1[\"Shares\"]\n",
        "#df_Avg_1[\"Marketcap_Jan_2020\"] = df_Avg_1[\"Marketcap_Jan_2020\"].astype(int)\n",
        "\n",
        "#df_Avg_1[\"Marketcap_Jan_2021\"] = df_Avg_1[\"Jan_2021\"] * df_Avg_1[\"Shares\"]\n",
        "#df_Avg_1[\"Marketcap_Jan_2021\"] = df_Avg_1[\"Marketcap_Jan_2021\"].astype(int)\n",
        "\n",
        "#df_Avg_1.head()"
      ],
      "metadata": {
        "id": "_-wsUaiSiVy3"
      },
      "execution_count": null,
      "outputs": []
    },
    {
      "cell_type": "code",
      "source": [
        "# change en el market cap:\n",
        "df_Avg_1[\"%Marketcap_Jan_2020_Dic_2019\"] = (df_Avg_1[\"Marketcap_Jan_2020\"] - df_Avg_1[\"Marketcap_Dic_2019\"]) / df_Avg_1[\"Marketcap_Dic_2019\"]*100\n",
        "df_Avg_1[\"%Marketcap_Jan_2021_Jan_2020\"] = (df_Avg_1[\"Marketcap_Jan_2021\"] - df_Avg_1[\"Marketcap_Jan_2020\"]) / df_Avg_1[\"Marketcap_Jan_2020\"]*100\n",
        "df_Avg_1[\"%Marketcap_Jan_2021_Dic_2019\"] = (df_Avg_1[\"Marketcap_Jan_2021\"] - df_Avg_1[\"Marketcap_Dic_2019\"]) / df_Avg_1[\"Marketcap_Dic_2019\"]*100"
      ],
      "metadata": {
        "id": "CcKkhLX1GPRq"
      },
      "execution_count": null,
      "outputs": []
    },
    {
      "cell_type": "code",
      "source": [
        "# % change stock prices:\n",
        "df_Avg_1[\"PercentageChange_Jan_2020_Dic_2019\"] = (df_Avg_1[\"Jan_2020\"] - df_Avg_1[\"Dic_2019\"]) / df_Avg_1[\"Dic_2019\"]*100\n",
        "df_Avg_1[\"PercentageChange_Jan_2021_Jan_2020\"] = (df_Avg_1[\"Jan_2021\"] - df_Avg_1[\"Jan_2020\"]) / df_Avg_1[\"Jan_2020\"]*100\n",
        "df_Avg_1[\"PercentageChange_Jan_2021_Dic_2019\"] = (df_Avg_1[\"Jan_2021\"] - df_Avg_1[\"Dic_2019\"]) / df_Avg_1[\"Dic_2019\"]*100\n",
        "df_Avg_1"
      ],
      "metadata": {
        "id": "767yZssUL5vs"
      },
      "execution_count": null,
      "outputs": []
    },
    {
      "cell_type": "code",
      "source": [
        "# Change in total market cap:\n",
        "sum(df_Avg_1['Marketcap_Jan_2020'] - df_Avg_1[\"Marketcap_Dic_2019\"]) / 10**9"
      ],
      "metadata": {
        "id": "IcPN6DmhKhqV"
      },
      "execution_count": null,
      "outputs": []
    },
    {
      "cell_type": "code",
      "source": [
        "sum(df_Avg_1[\"Marketcap_Jan_2021\"] - df_Avg_1[\"Marketcap_Jan_2020\"]) / 10**9"
      ],
      "metadata": {
        "id": "PpABQ8MdKyLc"
      },
      "execution_count": null,
      "outputs": []
    },
    {
      "cell_type": "code",
      "source": [
        "sum(df_Avg_1[\"Marketcap_Jan_2021\"] - df_Avg_1[\"Marketcap_Dic_2019\"]) / 10**9"
      ],
      "metadata": {
        "id": "FhyltADtkbgz"
      },
      "execution_count": null,
      "outputs": []
    },
    {
      "cell_type": "code",
      "source": [
        "stocks_df = stocks_df.merge(df_Avg_1, left_on='Symbol', right_on='Symbols', how='left', suffixes=('_x', ''))\n",
        "stocks_df"
      ],
      "metadata": {
        "id": "6CDMiZEeR9Pz"
      },
      "execution_count": null,
      "outputs": []
    },
    {
      "cell_type": "code",
      "source": [
        "# Change in total market by sector:\n",
        "(stocks_df.groupby(\"GICS Sector\").sum()[\"Marketcap_Jan_2020\"] - stocks_df.groupby(\"GICS Sector\").sum()[\"Marketcap_Dic_2019\"]).sort_values() / 10**9"
      ],
      "metadata": {
        "id": "p-Jukg7IQXNx"
      },
      "execution_count": null,
      "outputs": []
    },
    {
      "cell_type": "code",
      "source": [
        "(stocks_df.groupby(\"GICS Sector\").sum()[\"Marketcap_Jan_2021\"] - stocks_df.groupby(\"GICS Sector\").sum()[\"Marketcap_Jan_2020\"]).sort_values() / 10**9"
      ],
      "metadata": {
        "id": "s9qelB2ESzot"
      },
      "execution_count": null,
      "outputs": []
    },
    {
      "cell_type": "code",
      "source": [
        "# Companies by percentage change stock:\n",
        "stocks_df.sort_values(by=[\"PercentageChange_Jan_2020_Dic_2019\"])[[\"Security\", \"PercentageChange_Jan_2020_Dic_2019\"]].head(5)"
      ],
      "metadata": {
        "id": "iCWX0TJDTDLx"
      },
      "execution_count": null,
      "outputs": []
    },
    {
      "cell_type": "code",
      "source": [
        "print(sum(stocks_df[\"PercentageChange_Jan_2020_Dic_2019\"] < 0))\n",
        "print(sum(stocks_df[\"PercentageChange_Jan_2020_Dic_2019\"] > 0))"
      ],
      "metadata": {
        "id": "wB9rwBmXTbQ7"
      },
      "execution_count": null,
      "outputs": []
    },
    {
      "cell_type": "code",
      "source": [
        "# % change of stock by sector:\n",
        "stocks_df.groupby(\"GICS Sector\").mean()['PercentageChange_Jan_2020_Dic_2019'].sort_values()"
      ],
      "metadata": {
        "id": "NqwyioqzTkx-"
      },
      "execution_count": null,
      "outputs": []
    },
    {
      "cell_type": "code",
      "source": [
        "stocks_df.groupby(\"GICS Sub-Industry\").mean()['PercentageChange_Jan_2020_Dic_2019'].sort_values()"
      ],
      "metadata": {
        "id": "b9-ergONTtdc"
      },
      "execution_count": null,
      "outputs": []
    },
    {
      "cell_type": "code",
      "source": [
        "print(sum(stocks_df.groupby(\"GICS Sub-Industry\").mean()['PercentageChange_Jan_2020_Dic_2019'] < 0))\n",
        "print(sum(stocks_df.groupby(\"GICS Sub-Industry\").mean()['PercentageChange_Jan_2020_Dic_2019'] > 0))"
      ],
      "metadata": {
        "id": "zM53uHnDT62e"
      },
      "execution_count": null,
      "outputs": []
    }
  ]
}