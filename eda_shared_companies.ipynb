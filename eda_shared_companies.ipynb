{
  "nbformat": 4,
  "nbformat_minor": 0,
  "metadata": {
    "colab": {
      "provenance": [],
      "collapsed_sections": []
    },
    "kernelspec": {
      "name": "python3",
      "display_name": "Python 3"
    },
    "language_info": {
      "name": "python"
    }
  },
  "cells": [
    {
      "cell_type": "markdown",
      "source": [
        "**Import libraries**"
      ],
      "metadata": {
        "id": "RD16cDlUlztW"
      }
    },
    {
      "cell_type": "code",
      "execution_count": null,
      "metadata": {
        "id": "p5yuaLL1T7AL",
        "colab": {
          "base_uri": "https://localhost:8080/"
        },
        "outputId": "f9d6b4db-77fc-42a8-e087-8cff074bce33"
      },
      "outputs": [
        {
          "output_type": "stream",
          "name": "stdout",
          "text": [
            "Mounted at /content/drive\n"
          ]
        }
      ],
      "source": [
        "# load data:\n",
        "import pandas as pd\n",
        "import numpy as np\n",
        "import matplotlib.pyplot as plt\n",
        "from google.colab import drive\n",
        "drive.mount('/content/drive')"
      ]
    },
    {
      "cell_type": "markdown",
      "source": [
        "**Import data**"
      ],
      "metadata": {
        "id": "iFY6YNMGl_Uz"
      }
    },
    {
      "cell_type": "markdown",
      "source": [
        "From Wikepedia we import the list of the companies members of the index SP500"
      ],
      "metadata": {
        "id": "Pm7yY2TemkYL"
      }
    },
    {
      "cell_type": "code",
      "source": [
        "url = 'https://en.wikipedia.org/wiki/List_of_S%26P_500_companies'\n",
        "stocks_df = pd.read_html(url, header=0)[0]\n",
        "stocks_df.head()"
      ],
      "metadata": {
        "id": "7mlaD5b4Uhku",
        "colab": {
          "base_uri": "https://localhost:8080/",
          "height": 206
        },
        "outputId": "01198841-7652-4bf6-8ec8-afca0d42dc89"
      },
      "execution_count": null,
      "outputs": [
        {
          "output_type": "execute_result",
          "data": {
            "text/plain": [
              "  Symbol     Security SEC filings  GICS Sector         GICS Sub-Industry  \\\n",
              "0    MMM           3M     reports  Industrials  Industrial Conglomerates   \n",
              "1    AOS  A. O. Smith     reports  Industrials         Building Products   \n",
              "2    ABT       Abbott     reports  Health Care     Health Care Equipment   \n",
              "3   ABBV       AbbVie     reports  Health Care           Pharmaceuticals   \n",
              "4   ABMD      Abiomed     reports  Health Care     Health Care Equipment   \n",
              "\n",
              "     Headquarters Location Date first added      CIK      Founded  \n",
              "0    Saint Paul, Minnesota       1976-08-09    66740         1902  \n",
              "1     Milwaukee, Wisconsin       2017-07-26    91142         1916  \n",
              "2  North Chicago, Illinois       1964-03-31     1800         1888  \n",
              "3  North Chicago, Illinois       2012-12-31  1551152  2013 (1888)  \n",
              "4   Danvers, Massachusetts       2018-05-31   815094         1981  "
            ],
            "text/html": [
              "\n",
              "  <div id=\"df-6dcc8a8c-7836-4cca-8cd5-619d6990f2e2\">\n",
              "    <div class=\"colab-df-container\">\n",
              "      <div>\n",
              "<style scoped>\n",
              "    .dataframe tbody tr th:only-of-type {\n",
              "        vertical-align: middle;\n",
              "    }\n",
              "\n",
              "    .dataframe tbody tr th {\n",
              "        vertical-align: top;\n",
              "    }\n",
              "\n",
              "    .dataframe thead th {\n",
              "        text-align: right;\n",
              "    }\n",
              "</style>\n",
              "<table border=\"1\" class=\"dataframe\">\n",
              "  <thead>\n",
              "    <tr style=\"text-align: right;\">\n",
              "      <th></th>\n",
              "      <th>Symbol</th>\n",
              "      <th>Security</th>\n",
              "      <th>SEC filings</th>\n",
              "      <th>GICS Sector</th>\n",
              "      <th>GICS Sub-Industry</th>\n",
              "      <th>Headquarters Location</th>\n",
              "      <th>Date first added</th>\n",
              "      <th>CIK</th>\n",
              "      <th>Founded</th>\n",
              "    </tr>\n",
              "  </thead>\n",
              "  <tbody>\n",
              "    <tr>\n",
              "      <th>0</th>\n",
              "      <td>MMM</td>\n",
              "      <td>3M</td>\n",
              "      <td>reports</td>\n",
              "      <td>Industrials</td>\n",
              "      <td>Industrial Conglomerates</td>\n",
              "      <td>Saint Paul, Minnesota</td>\n",
              "      <td>1976-08-09</td>\n",
              "      <td>66740</td>\n",
              "      <td>1902</td>\n",
              "    </tr>\n",
              "    <tr>\n",
              "      <th>1</th>\n",
              "      <td>AOS</td>\n",
              "      <td>A. O. Smith</td>\n",
              "      <td>reports</td>\n",
              "      <td>Industrials</td>\n",
              "      <td>Building Products</td>\n",
              "      <td>Milwaukee, Wisconsin</td>\n",
              "      <td>2017-07-26</td>\n",
              "      <td>91142</td>\n",
              "      <td>1916</td>\n",
              "    </tr>\n",
              "    <tr>\n",
              "      <th>2</th>\n",
              "      <td>ABT</td>\n",
              "      <td>Abbott</td>\n",
              "      <td>reports</td>\n",
              "      <td>Health Care</td>\n",
              "      <td>Health Care Equipment</td>\n",
              "      <td>North Chicago, Illinois</td>\n",
              "      <td>1964-03-31</td>\n",
              "      <td>1800</td>\n",
              "      <td>1888</td>\n",
              "    </tr>\n",
              "    <tr>\n",
              "      <th>3</th>\n",
              "      <td>ABBV</td>\n",
              "      <td>AbbVie</td>\n",
              "      <td>reports</td>\n",
              "      <td>Health Care</td>\n",
              "      <td>Pharmaceuticals</td>\n",
              "      <td>North Chicago, Illinois</td>\n",
              "      <td>2012-12-31</td>\n",
              "      <td>1551152</td>\n",
              "      <td>2013 (1888)</td>\n",
              "    </tr>\n",
              "    <tr>\n",
              "      <th>4</th>\n",
              "      <td>ABMD</td>\n",
              "      <td>Abiomed</td>\n",
              "      <td>reports</td>\n",
              "      <td>Health Care</td>\n",
              "      <td>Health Care Equipment</td>\n",
              "      <td>Danvers, Massachusetts</td>\n",
              "      <td>2018-05-31</td>\n",
              "      <td>815094</td>\n",
              "      <td>1981</td>\n",
              "    </tr>\n",
              "  </tbody>\n",
              "</table>\n",
              "</div>\n",
              "      <button class=\"colab-df-convert\" onclick=\"convertToInteractive('df-6dcc8a8c-7836-4cca-8cd5-619d6990f2e2')\"\n",
              "              title=\"Convert this dataframe to an interactive table.\"\n",
              "              style=\"display:none;\">\n",
              "        \n",
              "  <svg xmlns=\"http://www.w3.org/2000/svg\" height=\"24px\"viewBox=\"0 0 24 24\"\n",
              "       width=\"24px\">\n",
              "    <path d=\"M0 0h24v24H0V0z\" fill=\"none\"/>\n",
              "    <path d=\"M18.56 5.44l.94 2.06.94-2.06 2.06-.94-2.06-.94-.94-2.06-.94 2.06-2.06.94zm-11 1L8.5 8.5l.94-2.06 2.06-.94-2.06-.94L8.5 2.5l-.94 2.06-2.06.94zm10 10l.94 2.06.94-2.06 2.06-.94-2.06-.94-.94-2.06-.94 2.06-2.06.94z\"/><path d=\"M17.41 7.96l-1.37-1.37c-.4-.4-.92-.59-1.43-.59-.52 0-1.04.2-1.43.59L10.3 9.45l-7.72 7.72c-.78.78-.78 2.05 0 2.83L4 21.41c.39.39.9.59 1.41.59.51 0 1.02-.2 1.41-.59l7.78-7.78 2.81-2.81c.8-.78.8-2.07 0-2.86zM5.41 20L4 18.59l7.72-7.72 1.47 1.35L5.41 20z\"/>\n",
              "  </svg>\n",
              "      </button>\n",
              "      \n",
              "  <style>\n",
              "    .colab-df-container {\n",
              "      display:flex;\n",
              "      flex-wrap:wrap;\n",
              "      gap: 12px;\n",
              "    }\n",
              "\n",
              "    .colab-df-convert {\n",
              "      background-color: #E8F0FE;\n",
              "      border: none;\n",
              "      border-radius: 50%;\n",
              "      cursor: pointer;\n",
              "      display: none;\n",
              "      fill: #1967D2;\n",
              "      height: 32px;\n",
              "      padding: 0 0 0 0;\n",
              "      width: 32px;\n",
              "    }\n",
              "\n",
              "    .colab-df-convert:hover {\n",
              "      background-color: #E2EBFA;\n",
              "      box-shadow: 0px 1px 2px rgba(60, 64, 67, 0.3), 0px 1px 3px 1px rgba(60, 64, 67, 0.15);\n",
              "      fill: #174EA6;\n",
              "    }\n",
              "\n",
              "    [theme=dark] .colab-df-convert {\n",
              "      background-color: #3B4455;\n",
              "      fill: #D2E3FC;\n",
              "    }\n",
              "\n",
              "    [theme=dark] .colab-df-convert:hover {\n",
              "      background-color: #434B5C;\n",
              "      box-shadow: 0px 1px 3px 1px rgba(0, 0, 0, 0.15);\n",
              "      filter: drop-shadow(0px 1px 2px rgba(0, 0, 0, 0.3));\n",
              "      fill: #FFFFFF;\n",
              "    }\n",
              "  </style>\n",
              "\n",
              "      <script>\n",
              "        const buttonEl =\n",
              "          document.querySelector('#df-6dcc8a8c-7836-4cca-8cd5-619d6990f2e2 button.colab-df-convert');\n",
              "        buttonEl.style.display =\n",
              "          google.colab.kernel.accessAllowed ? 'block' : 'none';\n",
              "\n",
              "        async function convertToInteractive(key) {\n",
              "          const element = document.querySelector('#df-6dcc8a8c-7836-4cca-8cd5-619d6990f2e2');\n",
              "          const dataTable =\n",
              "            await google.colab.kernel.invokeFunction('convertToInteractive',\n",
              "                                                     [key], {});\n",
              "          if (!dataTable) return;\n",
              "\n",
              "          const docLinkHtml = 'Like what you see? Visit the ' +\n",
              "            '<a target=\"_blank\" href=https://colab.research.google.com/notebooks/data_table.ipynb>data table notebook</a>'\n",
              "            + ' to learn more about interactive tables.';\n",
              "          element.innerHTML = '';\n",
              "          dataTable['output_type'] = 'display_data';\n",
              "          await google.colab.output.renderOutput(dataTable, element);\n",
              "          const docLink = document.createElement('div');\n",
              "          docLink.innerHTML = docLinkHtml;\n",
              "          element.appendChild(docLink);\n",
              "        }\n",
              "      </script>\n",
              "    </div>\n",
              "  </div>\n",
              "  "
            ]
          },
          "metadata": {},
          "execution_count": 2
        }
      ]
    },
    {
      "cell_type": "markdown",
      "source": [
        "**EDA**"
      ],
      "metadata": {
        "id": "3NCoQrPcZiiR"
      }
    },
    {
      "cell_type": "markdown",
      "source": [
        "Next step is to check the size of the data set."
      ],
      "metadata": {
        "id": "iuXgSvVzRW3f"
      }
    },
    {
      "cell_type": "code",
      "source": [
        "stocks_df.shape"
      ],
      "metadata": {
        "id": "rMsDPcpPQfkz",
        "colab": {
          "base_uri": "https://localhost:8080/"
        },
        "outputId": "8b2e7889-b026-43f3-b2f4-7053db85cf27"
      },
      "execution_count": null,
      "outputs": [
        {
          "output_type": "execute_result",
          "data": {
            "text/plain": [
              "(503, 9)"
            ]
          },
          "metadata": {},
          "execution_count": 3
        }
      ]
    },
    {
      "cell_type": "markdown",
      "source": [
        "We noticed that there are more that 500 Symbols for the SP500 index. Let's print out all unique values on the Symbol column."
      ],
      "metadata": {
        "id": "3dtlH7BpRoMI"
      }
    },
    {
      "cell_type": "code",
      "source": [
        "print(stocks_df[\"Symbol\"].unique())"
      ],
      "metadata": {
        "id": "d76RZ1orR5BP",
        "colab": {
          "base_uri": "https://localhost:8080/"
        },
        "outputId": "83cef0ff-d392-459f-f80b-b3f4b12578f1"
      },
      "execution_count": null,
      "outputs": [
        {
          "output_type": "stream",
          "name": "stdout",
          "text": [
            "['MMM' 'AOS' 'ABT' 'ABBV' 'ABMD' 'ACN' 'ATVI' 'ADM' 'ADBE' 'ADP' 'AAP'\n",
            " 'AES' 'AFL' 'A' 'APD' 'AKAM' 'ALK' 'ALB' 'ARE' 'ALGN' 'ALLE' 'LNT' 'ALL'\n",
            " 'GOOGL' 'GOOG' 'MO' 'AMZN' 'AMCR' 'AMD' 'AEE' 'AAL' 'AEP' 'AXP' 'AIG'\n",
            " 'AMT' 'AWK' 'AMP' 'ABC' 'AME' 'AMGN' 'APH' 'ADI' 'ANSS' 'AON' 'APA'\n",
            " 'AAPL' 'AMAT' 'APTV' 'ANET' 'AJG' 'AIZ' 'T' 'ATO' 'ADSK' 'AZO' 'AVB'\n",
            " 'AVY' 'BKR' 'BALL' 'BAC' 'BBWI' 'BAX' 'BDX' 'WRB' 'BRK.B' 'BBY' 'BIO'\n",
            " 'TECH' 'BIIB' 'BLK' 'BK' 'BA' 'BKNG' 'BWA' 'BXP' 'BSX' 'BMY' 'AVGO' 'BR'\n",
            " 'BRO' 'BF.B' 'CHRW' 'CDNS' 'CZR' 'CPT' 'CPB' 'COF' 'CAH' 'KMX' 'CCL'\n",
            " 'CARR' 'CTLT' 'CAT' 'CBOE' 'CBRE' 'CDW' 'CE' 'CNC' 'CNP' 'CDAY' 'CF'\n",
            " 'CRL' 'SCHW' 'CHTR' 'CVX' 'CMG' 'CB' 'CHD' 'CI' 'CINF' 'CTAS' 'CSCO' 'C'\n",
            " 'CFG' 'CLX' 'CME' 'CMS' 'KO' 'CTSH' 'CL' 'CMCSA' 'CMA' 'CAG' 'COP' 'ED'\n",
            " 'STZ' 'CEG' 'COO' 'CPRT' 'GLW' 'CTVA' 'CSGP' 'COST' 'CTRA' 'CCI' 'CSX'\n",
            " 'CMI' 'CVS' 'DHI' 'DHR' 'DRI' 'DVA' 'DE' 'DAL' 'XRAY' 'DVN' 'DXCM' 'FANG'\n",
            " 'DLR' 'DFS' 'DISH' 'DIS' 'DG' 'DLTR' 'D' 'DPZ' 'DOV' 'DOW' 'DTE' 'DUK'\n",
            " 'DD' 'DXC' 'EMN' 'ETN' 'EBAY' 'ECL' 'EIX' 'EW' 'EA' 'ELV' 'LLY' 'EMR'\n",
            " 'ENPH' 'ETR' 'EOG' 'EPAM' 'EQT' 'EFX' 'EQIX' 'EQR' 'ESS' 'EL' 'ETSY' 'RE'\n",
            " 'EVRG' 'ES' 'EXC' 'EXPE' 'EXPD' 'EXR' 'XOM' 'FFIV' 'FDS' 'FAST' 'FRT'\n",
            " 'FDX' 'FITB' 'FRC' 'FE' 'FIS' 'FISV' 'FLT' 'FMC' 'F' 'FTNT' 'FTV' 'FBHS'\n",
            " 'FOXA' 'FOX' 'BEN' 'FCX' 'GRMN' 'IT' 'GNRC' 'GD' 'GE' 'GIS' 'GM' 'GPC'\n",
            " 'GILD' 'GL' 'GPN' 'GS' 'HAL' 'HIG' 'HAS' 'HCA' 'PEAK' 'HSIC' 'HSY' 'HES'\n",
            " 'HPE' 'HLT' 'HOLX' 'HD' 'HON' 'HRL' 'HST' 'HWM' 'HPQ' 'HUM' 'HBAN' 'HII'\n",
            " 'IBM' 'IEX' 'IDXX' 'ITW' 'ILMN' 'INCY' 'IR' 'INTC' 'ICE' 'IP' 'IPG' 'IFF'\n",
            " 'INTU' 'ISRG' 'IVZ' 'INVH' 'IQV' 'IRM' 'JBHT' 'JKHY' 'J' 'JNJ' 'JCI'\n",
            " 'JPM' 'JNPR' 'K' 'KDP' 'KEY' 'KEYS' 'KMB' 'KIM' 'KMI' 'KLAC' 'KHC' 'KR'\n",
            " 'LHX' 'LH' 'LRCX' 'LW' 'LVS' 'LDOS' 'LEN' 'LNC' 'LIN' 'LYV' 'LKQ' 'LMT'\n",
            " 'L' 'LOW' 'LUMN' 'LYB' 'MTB' 'MRO' 'MPC' 'MKTX' 'MAR' 'MMC' 'MLM' 'MAS'\n",
            " 'MA' 'MTCH' 'MKC' 'MCD' 'MCK' 'MDT' 'MRK' 'META' 'MET' 'MTD' 'MGM' 'MCHP'\n",
            " 'MU' 'MSFT' 'MAA' 'MRNA' 'MHK' 'MOH' 'TAP' 'MDLZ' 'MPWR' 'MNST' 'MCO'\n",
            " 'MS' 'MOS' 'MSI' 'MSCI' 'NDAQ' 'NTAP' 'NFLX' 'NWL' 'NEM' 'NWSA' 'NWS'\n",
            " 'NEE' 'NKE' 'NI' 'NDSN' 'NSC' 'NTRS' 'NOC' 'NLOK' 'NCLH' 'NRG' 'NUE'\n",
            " 'NVDA' 'NVR' 'NXPI' 'ORLY' 'OXY' 'ODFL' 'OMC' 'ON' 'OKE' 'ORCL' 'OGN'\n",
            " 'OTIS' 'PCAR' 'PKG' 'PARA' 'PH' 'PAYX' 'PAYC' 'PYPL' 'PNR' 'PEP' 'PKI'\n",
            " 'PFE' 'PCG' 'PM' 'PSX' 'PNW' 'PXD' 'PNC' 'POOL' 'PPG' 'PPL' 'PFG' 'PG'\n",
            " 'PGR' 'PLD' 'PRU' 'PEG' 'PTC' 'PSA' 'PHM' 'QRVO' 'PWR' 'QCOM' 'DGX' 'RL'\n",
            " 'RJF' 'RTX' 'O' 'REG' 'REGN' 'RF' 'RSG' 'RMD' 'RHI' 'ROK' 'ROL' 'ROP'\n",
            " 'ROST' 'RCL' 'SPGI' 'CRM' 'SBAC' 'SLB' 'STX' 'SEE' 'SRE' 'NOW' 'SHW'\n",
            " 'SBNY' 'SPG' 'SWKS' 'SJM' 'SNA' 'SEDG' 'SO' 'LUV' 'SWK' 'SBUX' 'STT'\n",
            " 'STE' 'SYK' 'SIVB' 'SYF' 'SNPS' 'SYY' 'TMUS' 'TROW' 'TTWO' 'TPR' 'TRGP'\n",
            " 'TGT' 'TEL' 'TDY' 'TFX' 'TER' 'TSLA' 'TXN' 'TXT' 'TMO' 'TJX' 'TSCO' 'TT'\n",
            " 'TDG' 'TRV' 'TRMB' 'TFC' 'TWTR' 'TYL' 'TSN' 'USB' 'UDR' 'ULTA' 'UNP'\n",
            " 'UAL' 'UPS' 'URI' 'UNH' 'UHS' 'VLO' 'VTR' 'VRSN' 'VRSK' 'VZ' 'VRTX' 'VFC'\n",
            " 'VTRS' 'VICI' 'V' 'VNO' 'VMC' 'WAB' 'WBA' 'WMT' 'WBD' 'WM' 'WAT' 'WEC'\n",
            " 'WFC' 'WELL' 'WST' 'WDC' 'WRK' 'WY' 'WHR' 'WMB' 'WTW' 'GWW' 'WYNN' 'XEL'\n",
            " 'XYL' 'YUM' 'ZBRA' 'ZBH' 'ZION' 'ZTS']\n"
          ]
        }
      ]
    },
    {
      "cell_type": "markdown",
      "source": [
        "To understand the data we will provide a brief description of the name of the columns"
      ],
      "metadata": {
        "id": "GCkUBbjXU8NV"
      }
    },
    {
      "cell_type": "code",
      "source": [
        "stocks_df.columns"
      ],
      "metadata": {
        "id": "W6YKGb8tQmi4",
        "colab": {
          "base_uri": "https://localhost:8080/"
        },
        "outputId": "832382cd-c2b1-443e-92b1-6327e5e7661f"
      },
      "execution_count": null,
      "outputs": [
        {
          "output_type": "execute_result",
          "data": {
            "text/plain": [
              "Index(['Symbol', 'Security', 'SEC filings', 'GICS Sector', 'GICS Sub-Industry',\n",
              "       'Headquarters Location', 'Date first added', 'CIK', 'Founded'],\n",
              "      dtype='object')"
            ]
          },
          "metadata": {},
          "execution_count": 5
        }
      ]
    },
    {
      "cell_type": "markdown",
      "source": [
        "**Symbol:** Nmemonic which represents the name of the company.\n",
        "\n",
        "**Security:** Fungible and tradable financial instruments used to raise capital in public and private markets.\n",
        "\n",
        "**SEC filings:** Important regulatory documents required of all public companies to provide key information to investors or potential investors. \n",
        "\n",
        "**GICS Sector:**  Company sector according to Global Industry Classification Standard.\n",
        " \n",
        "**GICS Sub-Industry:** Company sub-industry according to Global Industry Classification Standard.\n",
        "\n",
        "**Headquarters:** City and state where company headquarter is located.\n",
        " \n",
        "**Date first added:** Date in which the company entered in the SP500 index.\n",
        "  \n",
        "**CIK:** Central Index Key is a number given to an individual, company, or foreign government by the United States Securities and Exchange Commission. \n",
        "  \n",
        "**Founded:** Year in which the company was founded.\n",
        "\n",
        "Source: 1 https://www.investopedia.com 2 https://en.wikipedia.org/wiki/Central_Index_Key\n"
      ],
      "metadata": {
        "id": "4_ctPaYNU7cq"
      }
    },
    {
      "cell_type": "code",
      "source": [
        "#let's find null values on our dataset\n",
        "stocks_df.isnull().sum()"
      ],
      "metadata": {
        "id": "F-KUIr3zKOUD",
        "colab": {
          "base_uri": "https://localhost:8080/"
        },
        "outputId": "98903625-b1a9-4e57-82d7-99fdf96eacf4"
      },
      "execution_count": null,
      "outputs": [
        {
          "output_type": "execute_result",
          "data": {
            "text/plain": [
              "Symbol                    0\n",
              "Security                  0\n",
              "SEC filings               0\n",
              "GICS Sector               0\n",
              "GICS Sub-Industry         0\n",
              "Headquarters Location     0\n",
              "Date first added         45\n",
              "CIK                       0\n",
              "Founded                   0\n",
              "dtype: int64"
            ]
          },
          "metadata": {},
          "execution_count": 6
        }
      ]
    },
    {
      "cell_type": "markdown",
      "source": [
        "Now we see the classification of the companies by sector"
      ],
      "metadata": {
        "id": "ooWO0jf4rwg8"
      }
    },
    {
      "cell_type": "code",
      "source": [
        "stocks_df['GICS Sector'].value_counts()"
      ],
      "metadata": {
        "id": "FrFgdxlzVK-p",
        "colab": {
          "base_uri": "https://localhost:8080/"
        },
        "outputId": "ce4d31e9-0193-442b-f5c0-b1de3605f3b5"
      },
      "execution_count": null,
      "outputs": [
        {
          "output_type": "execute_result",
          "data": {
            "text/plain": [
              "Information Technology    75\n",
              "Industrials               71\n",
              "Financials                66\n",
              "Health Care               64\n",
              "Consumer Discretionary    56\n",
              "Consumer Staples          33\n",
              "Real Estate               31\n",
              "Utilities                 30\n",
              "Materials                 28\n",
              "Communication Services    26\n",
              "Energy                    23\n",
              "Name: GICS Sector, dtype: int64"
            ]
          },
          "metadata": {},
          "execution_count": 7
        }
      ]
    },
    {
      "cell_type": "code",
      "source": [
        "a =pd.DataFrame(stocks_df['GICS Sector'].value_counts())"
      ],
      "metadata": {
        "id": "OxKyJ_ndeIrB"
      },
      "execution_count": null,
      "outputs": []
    },
    {
      "cell_type": "code",
      "source": [
        "plt.rcdefaults()\n",
        "fig, ax = plt.subplots()\n",
        "\n",
        "count_companies = list(stocks_df['GICS Sector'].value_counts())\n",
        "sector_companies = [\"Information Technology\",\"Industrials\",\"Financials\",\"Health Care\",\"Consumer Discretionary\",\"Consumer Staples\",\"Real Estate\",\"Utilities\",\"Materials\",\"Communication Services\",\"Energy\" ]\n",
        "\n",
        "ax.barh(sector_companies, count_companies, align='center')\n",
        "ax.set_xlabel('Number of companies')\n",
        "ax.set_ylabel('GICS Sector')\n",
        "ax.set_title('Total of SP500 companies by Group')\n",
        "\n"
      ],
      "metadata": {
        "id": "tc9uQ55jcJBM",
        "colab": {
          "base_uri": "https://localhost:8080/",
          "height": 489
        },
        "outputId": "8c5ddf8e-7693-4884-b2e1-5594827e3b2a"
      },
      "execution_count": null,
      "outputs": [
        {
          "output_type": "execute_result",
          "data": {
            "text/plain": [
              "Text(0.5, 1.0, 'Total of SP500 companies by Group')"
            ]
          },
          "metadata": {},
          "execution_count": 11
        },
        {
          "output_type": "display_data",
          "data": {
            "text/plain": [
              "<Figure size 640x480 with 1 Axes>"
            ],
            "image/png": "[encoded data removed]"
          },
          "metadata": {}
        }
      ]
    },
    {
      "cell_type": "code",
      "source": [
        "stocks_df['GICS Sub-Industry'].value_counts()"
      ],
      "metadata": {
        "id": "IjTx9jNcdYol",
        "colab": {
          "base_uri": "https://localhost:8080/"
        },
        "outputId": "0f045e93-02da-44a4-e2be-963090e1a721"
      },
      "execution_count": null,
      "outputs": [
        {
          "output_type": "execute_result",
          "data": {
            "text/plain": [
              "Health Care Equipment    19\n",
              "Semiconductors           14\n",
              "Industrial Machinery     14\n",
              "Multi-Utilities          13\n",
              "Application Software     13\n",
              "                         ..\n",
              "Diversified Chemicals     1\n",
              "Leisure Products          1\n",
              "Consumer Electronics      1\n",
              "Copper                    1\n",
              "Household Appliances      1\n",
              "Name: GICS Sub-Industry, Length: 122, dtype: int64"
            ]
          },
          "metadata": {},
          "execution_count": 12
        }
      ]
    },
    {
      "cell_type": "code",
      "source": [
        "stocks_df['GICS Sub-Industry'].nunique()"
      ],
      "metadata": {
        "colab": {
          "base_uri": "https://localhost:8080/"
        },
        "id": "ZJZBTshVr0B3",
        "outputId": "06f577f2-c935-486f-aa51-fe31f1e14b18"
      },
      "execution_count": null,
      "outputs": [
        {
          "output_type": "execute_result",
          "data": {
            "text/plain": [
              "122"
            ]
          },
          "metadata": {},
          "execution_count": 13
        }
      ]
    },
    {
      "cell_type": "code",
      "source": [
        "Name_list = stocks_df['GICS Sub-Industry'].tolist()"
      ],
      "metadata": {
        "id": "F-sw38P-sTmS"
      },
      "execution_count": null,
      "outputs": []
    },
    {
      "cell_type": "code",
      "source": [
        "a = stocks_df['GICS Sub-Industry'].drop_duplicates()"
      ],
      "metadata": {
        "id": "Gk5_Ml5xscSH"
      },
      "execution_count": null,
      "outputs": []
    },
    {
      "cell_type": "code",
      "source": [
        "type(sector_companies)"
      ],
      "metadata": {
        "colab": {
          "base_uri": "https://localhost:8080/"
        },
        "id": "ALKxG49etO3e",
        "outputId": "3e69e51f-eeb3-4d0f-9709-19f0a1a3ad2c"
      },
      "execution_count": null,
      "outputs": [
        {
          "output_type": "execute_result",
          "data": {
            "text/plain": [
              "list"
            ]
          },
          "metadata": {},
          "execution_count": 28
        }
      ]
    },
    {
      "cell_type": "code",
      "source": [
        "plt.rcdefaults()\n",
        "fig, ax = plt.subplots()\n",
        "\n",
        "count_companies = list(stocks_df['GICS Sector'].value_counts())\n",
        "#sector_companies = [\"Information Technology\",\"Industrials\",\"Financials\",\"Health Care\",\"Consumer Discretionary\",\"Consumer Staples\",\"Real Estate\",\"Utilities\",\"Materials\",\"Communication Services\",\"Energy\" ]\n",
        "\n",
        "ax.barh(b, count_companies, align='center')\n",
        "ax.set_xlabel('Number of companies')\n",
        "ax.set_ylabel('GICS Sector')\n",
        "ax.set_title('Total of SP500 companies by Group')"
      ],
      "metadata": {
        "colab": {
          "base_uri": "https://localhost:8080/",
          "height": 845
        },
        "id": "IygNmyActefx",
        "outputId": "f7b423a2-bf6c-45bc-b138-30eda8ef1997"
      },
      "execution_count": null,
      "outputs": [
        {
          "output_type": "error",
          "ename": "ValueError",
          "evalue": "ignored",
          "traceback": [
            "\u001b[0;31m---------------------------------------------------------------------------\u001b[0m",
            "\u001b[0;31mValueError\u001b[0m                                Traceback (most recent call last)",
            "\u001b[0;32m<ipython-input-27-f56f925d54ba>\u001b[0m in \u001b[0;36m<module>\u001b[0;34m\u001b[0m\n\u001b[1;32m      5\u001b[0m \u001b[0;31m#sector_companies = [\"Information Technology\",\"Industrials\",\"Financials\",\"Health Care\",\"Consumer Discretionary\",\"Consumer Staples\",\"Real Estate\",\"Utilities\",\"Materials\",\"Communication Services\",\"Energy\" ]\u001b[0m\u001b[0;34m\u001b[0m\u001b[0;34m\u001b[0m\u001b[0;34m\u001b[0m\u001b[0m\n\u001b[1;32m      6\u001b[0m \u001b[0;34m\u001b[0m\u001b[0m\n\u001b[0;32m----> 7\u001b[0;31m \u001b[0max\u001b[0m\u001b[0;34m.\u001b[0m\u001b[0mbarh\u001b[0m\u001b[0;34m(\u001b[0m\u001b[0mb\u001b[0m\u001b[0;34m,\u001b[0m \u001b[0mcount_companies\u001b[0m\u001b[0;34m,\u001b[0m \u001b[0malign\u001b[0m\u001b[0;34m=\u001b[0m\u001b[0;34m'center'\u001b[0m\u001b[0;34m)\u001b[0m\u001b[0;34m\u001b[0m\u001b[0;34m\u001b[0m\u001b[0m\n\u001b[0m\u001b[1;32m      8\u001b[0m \u001b[0max\u001b[0m\u001b[0;34m.\u001b[0m\u001b[0mset_xlabel\u001b[0m\u001b[0;34m(\u001b[0m\u001b[0;34m'Number of companies'\u001b[0m\u001b[0;34m)\u001b[0m\u001b[0;34m\u001b[0m\u001b[0;34m\u001b[0m\u001b[0m\n\u001b[1;32m      9\u001b[0m \u001b[0max\u001b[0m\u001b[0;34m.\u001b[0m\u001b[0mset_ylabel\u001b[0m\u001b[0;34m(\u001b[0m\u001b[0;34m'GICS Sector'\u001b[0m\u001b[0;34m)\u001b[0m\u001b[0;34m\u001b[0m\u001b[0;34m\u001b[0m\u001b[0m\n",
            "\u001b[0;32m/usr/local/lib/python3.7/dist-packages/matplotlib/axes/_axes.py\u001b[0m in \u001b[0;36mbarh\u001b[0;34m(self, y, width, height, left, align, **kwargs)\u001b[0m\n\u001b[1;32m   2545\u001b[0m         \u001b[0mkwargs\u001b[0m\u001b[0;34m.\u001b[0m\u001b[0msetdefault\u001b[0m\u001b[0;34m(\u001b[0m\u001b[0;34m'orientation'\u001b[0m\u001b[0;34m,\u001b[0m \u001b[0;34m'horizontal'\u001b[0m\u001b[0;34m)\u001b[0m\u001b[0;34m\u001b[0m\u001b[0;34m\u001b[0m\u001b[0m\n\u001b[1;32m   2546\u001b[0m         patches = self.bar(x=left, height=height, width=width, bottom=y,\n\u001b[0;32m-> 2547\u001b[0;31m                            align=align, **kwargs)\n\u001b[0m\u001b[1;32m   2548\u001b[0m         \u001b[0;32mreturn\u001b[0m \u001b[0mpatches\u001b[0m\u001b[0;34m\u001b[0m\u001b[0;34m\u001b[0m\u001b[0m\n\u001b[1;32m   2549\u001b[0m \u001b[0;34m\u001b[0m\u001b[0m\n",
            "\u001b[0;32m/usr/local/lib/python3.7/dist-packages/matplotlib/__init__.py\u001b[0m in \u001b[0;36minner\u001b[0;34m(ax, data, *args, **kwargs)\u001b[0m\n\u001b[1;32m   1563\u001b[0m     \u001b[0;32mdef\u001b[0m \u001b[0minner\u001b[0m\u001b[0;34m(\u001b[0m\u001b[0max\u001b[0m\u001b[0;34m,\u001b[0m \u001b[0;34m*\u001b[0m\u001b[0margs\u001b[0m\u001b[0;34m,\u001b[0m \u001b[0mdata\u001b[0m\u001b[0;34m=\u001b[0m\u001b[0;32mNone\u001b[0m\u001b[0;34m,\u001b[0m \u001b[0;34m**\u001b[0m\u001b[0mkwargs\u001b[0m\u001b[0;34m)\u001b[0m\u001b[0;34m:\u001b[0m\u001b[0;34m\u001b[0m\u001b[0;34m\u001b[0m\u001b[0m\n\u001b[1;32m   1564\u001b[0m         \u001b[0;32mif\u001b[0m \u001b[0mdata\u001b[0m \u001b[0;32mis\u001b[0m \u001b[0;32mNone\u001b[0m\u001b[0;34m:\u001b[0m\u001b[0;34m\u001b[0m\u001b[0;34m\u001b[0m\u001b[0m\n\u001b[0;32m-> 1565\u001b[0;31m             \u001b[0;32mreturn\u001b[0m \u001b[0mfunc\u001b[0m\u001b[0;34m(\u001b[0m\u001b[0max\u001b[0m\u001b[0;34m,\u001b[0m \u001b[0;34m*\u001b[0m\u001b[0mmap\u001b[0m\u001b[0;34m(\u001b[0m\u001b[0msanitize_sequence\u001b[0m\u001b[0;34m,\u001b[0m \u001b[0margs\u001b[0m\u001b[0;34m)\u001b[0m\u001b[0;34m,\u001b[0m \u001b[0;34m**\u001b[0m\u001b[0mkwargs\u001b[0m\u001b[0;34m)\u001b[0m\u001b[0;34m\u001b[0m\u001b[0;34m\u001b[0m\u001b[0m\n\u001b[0m\u001b[1;32m   1566\u001b[0m \u001b[0;34m\u001b[0m\u001b[0m\n\u001b[1;32m   1567\u001b[0m         \u001b[0mbound\u001b[0m \u001b[0;34m=\u001b[0m \u001b[0mnew_sig\u001b[0m\u001b[0;34m.\u001b[0m\u001b[0mbind\u001b[0m\u001b[0;34m(\u001b[0m\u001b[0max\u001b[0m\u001b[0;34m,\u001b[0m \u001b[0;34m*\u001b[0m\u001b[0margs\u001b[0m\u001b[0;34m,\u001b[0m \u001b[0;34m**\u001b[0m\u001b[0mkwargs\u001b[0m\u001b[0;34m)\u001b[0m\u001b[0;34m\u001b[0m\u001b[0;34m\u001b[0m\u001b[0m\n",
            "\u001b[0;32m/usr/local/lib/python3.7/dist-packages/matplotlib/axes/_axes.py\u001b[0m in \u001b[0;36mbar\u001b[0;34m(self, x, height, width, bottom, align, **kwargs)\u001b[0m\n\u001b[1;32m   2340\u001b[0m         x, height, width, y, linewidth = np.broadcast_arrays(\n\u001b[1;32m   2341\u001b[0m             \u001b[0;31m# Make args iterable too.\u001b[0m\u001b[0;34m\u001b[0m\u001b[0;34m\u001b[0m\u001b[0;34m\u001b[0m\u001b[0m\n\u001b[0;32m-> 2342\u001b[0;31m             np.atleast_1d(x), height, width, y, linewidth)\n\u001b[0m\u001b[1;32m   2343\u001b[0m \u001b[0;34m\u001b[0m\u001b[0m\n\u001b[1;32m   2344\u001b[0m         \u001b[0;31m# Now that units have been converted, set the tick locations.\u001b[0m\u001b[0;34m\u001b[0m\u001b[0;34m\u001b[0m\u001b[0;34m\u001b[0m\u001b[0m\n",
            "\u001b[0;32m<__array_function__ internals>\u001b[0m in \u001b[0;36mbroadcast_arrays\u001b[0;34m(*args, **kwargs)\u001b[0m\n",
            "\u001b[0;32m/usr/local/lib/python3.7/dist-packages/numpy/lib/stride_tricks.py\u001b[0m in \u001b[0;36mbroadcast_arrays\u001b[0;34m(subok, *args)\u001b[0m\n\u001b[1;32m    536\u001b[0m     \u001b[0margs\u001b[0m \u001b[0;34m=\u001b[0m \u001b[0;34m[\u001b[0m\u001b[0mnp\u001b[0m\u001b[0;34m.\u001b[0m\u001b[0marray\u001b[0m\u001b[0;34m(\u001b[0m\u001b[0m_m\u001b[0m\u001b[0;34m,\u001b[0m \u001b[0mcopy\u001b[0m\u001b[0;34m=\u001b[0m\u001b[0;32mFalse\u001b[0m\u001b[0;34m,\u001b[0m \u001b[0msubok\u001b[0m\u001b[0;34m=\u001b[0m\u001b[0msubok\u001b[0m\u001b[0;34m)\u001b[0m \u001b[0;32mfor\u001b[0m \u001b[0m_m\u001b[0m \u001b[0;32min\u001b[0m \u001b[0margs\u001b[0m\u001b[0;34m]\u001b[0m\u001b[0;34m\u001b[0m\u001b[0;34m\u001b[0m\u001b[0m\n\u001b[1;32m    537\u001b[0m \u001b[0;34m\u001b[0m\u001b[0m\n\u001b[0;32m--> 538\u001b[0;31m     \u001b[0mshape\u001b[0m \u001b[0;34m=\u001b[0m \u001b[0m_broadcast_shape\u001b[0m\u001b[0;34m(\u001b[0m\u001b[0;34m*\u001b[0m\u001b[0margs\u001b[0m\u001b[0;34m)\u001b[0m\u001b[0;34m\u001b[0m\u001b[0;34m\u001b[0m\u001b[0m\n\u001b[0m\u001b[1;32m    539\u001b[0m \u001b[0;34m\u001b[0m\u001b[0m\n\u001b[1;32m    540\u001b[0m     \u001b[0;32mif\u001b[0m \u001b[0mall\u001b[0m\u001b[0;34m(\u001b[0m\u001b[0marray\u001b[0m\u001b[0;34m.\u001b[0m\u001b[0mshape\u001b[0m \u001b[0;34m==\u001b[0m \u001b[0mshape\u001b[0m \u001b[0;32mfor\u001b[0m \u001b[0marray\u001b[0m \u001b[0;32min\u001b[0m \u001b[0margs\u001b[0m\u001b[0;34m)\u001b[0m\u001b[0;34m:\u001b[0m\u001b[0;34m\u001b[0m\u001b[0;34m\u001b[0m\u001b[0m\n",
            "\u001b[0;32m/usr/local/lib/python3.7/dist-packages/numpy/lib/stride_tricks.py\u001b[0m in \u001b[0;36m_broadcast_shape\u001b[0;34m(*args)\u001b[0m\n\u001b[1;32m    418\u001b[0m     \u001b[0;31m# use the old-iterator because np.nditer does not handle size 0 arrays\u001b[0m\u001b[0;34m\u001b[0m\u001b[0;34m\u001b[0m\u001b[0;34m\u001b[0m\u001b[0m\n\u001b[1;32m    419\u001b[0m     \u001b[0;31m# consistently\u001b[0m\u001b[0;34m\u001b[0m\u001b[0;34m\u001b[0m\u001b[0;34m\u001b[0m\u001b[0m\n\u001b[0;32m--> 420\u001b[0;31m     \u001b[0mb\u001b[0m \u001b[0;34m=\u001b[0m \u001b[0mnp\u001b[0m\u001b[0;34m.\u001b[0m\u001b[0mbroadcast\u001b[0m\u001b[0;34m(\u001b[0m\u001b[0;34m*\u001b[0m\u001b[0margs\u001b[0m\u001b[0;34m[\u001b[0m\u001b[0;34m:\u001b[0m\u001b[0;36m32\u001b[0m\u001b[0;34m]\u001b[0m\u001b[0;34m)\u001b[0m\u001b[0;34m\u001b[0m\u001b[0;34m\u001b[0m\u001b[0m\n\u001b[0m\u001b[1;32m    421\u001b[0m     \u001b[0;31m# unfortunately, it cannot handle 32 or more arguments directly\u001b[0m\u001b[0;34m\u001b[0m\u001b[0;34m\u001b[0m\u001b[0;34m\u001b[0m\u001b[0m\n\u001b[1;32m    422\u001b[0m     \u001b[0;32mfor\u001b[0m \u001b[0mpos\u001b[0m \u001b[0;32min\u001b[0m \u001b[0mrange\u001b[0m\u001b[0;34m(\u001b[0m\u001b[0;36m32\u001b[0m\u001b[0;34m,\u001b[0m \u001b[0mlen\u001b[0m\u001b[0;34m(\u001b[0m\u001b[0margs\u001b[0m\u001b[0;34m)\u001b[0m\u001b[0;34m,\u001b[0m \u001b[0;36m31\u001b[0m\u001b[0;34m)\u001b[0m\u001b[0;34m:\u001b[0m\u001b[0;34m\u001b[0m\u001b[0;34m\u001b[0m\u001b[0m\n",
            "\u001b[0;31mValueError\u001b[0m: shape mismatch: objects cannot be broadcast to a single shape"
          ]
        },
        {
          "output_type": "display_data",
          "data": {
            "text/plain": [
              "<Figure size 640x480 with 1 Axes>"
            ],
            "image/png": "[encoded data removed]"
          },
          "metadata": {}
        }
      ]
    },
    {
      "cell_type": "code",
      "source": [
        "plt.rcdefaults()\n",
        "fig, ax = plt.subplots()\n",
        "\n",
        "\n",
        "# Example data\n",
        "people = ('Tom', 'Dick', 'Harry', 'Slim', 'Jim')\n",
        "y_pos = np.arange(len(people))\n",
        "performance = 3 + 10 * np.random.rand(len(people))\n",
        "error = np.random.rand(len(people))\n",
        "\n",
        "ax.barh(y_pos, performance, xerr=error, align='center')\n",
        "ax.set_yticks(y_pos, labels=people)\n",
        "ax.invert_yaxis()  # labels read top-to-bottom\n",
        "ax.set_xlabel('Performance')\n",
        "ax.set_title('How fast do you want to go today?')\n",
        "\n",
        "plt.show()"
      ],
      "metadata": {
        "id": "zxWAdYr4fxs9"
      },
      "execution_count": null,
      "outputs": []
    },
    {
      "cell_type": "code",
      "source": [],
      "metadata": {
        "id": "hQi4BW-Rrzpu"
      },
      "execution_count": null,
      "outputs": []
    },
    {
      "cell_type": "markdown",
      "source": [
        "IT companies are leading the SP500 index with 75 companies,  followed by Industrials(71) and Financial (66)."
      ],
      "metadata": {
        "id": "aKMKZW1cbUOK"
      }
    },
    {
      "cell_type": "markdown",
      "source": [
        "We also classify the index by Sub-Industry with Health Care Equipment at the top, next Semiconductors and Industrial Machinery"
      ],
      "metadata": {
        "id": "wzRUc1k7r-QM"
      }
    },
    {
      "cell_type": "code",
      "source": [
        "stocks_df['GICS Sub-Industry'].value_counts()"
      ],
      "metadata": {
        "id": "R5jUZ_TiVhmV"
      },
      "execution_count": null,
      "outputs": []
    },
    {
      "cell_type": "markdown",
      "source": [
        "From yahoo finance, we downloaded information for the following three periods:\n",
        "\n",
        "-October-December 2019\n",
        "\n",
        "-January-March 2020\n",
        "\n",
        "-January-March 2021"
      ],
      "metadata": {
        "id": "5D7DchfCsEOD"
      }
    },
    {
      "cell_type": "code",
      "source": [
        "df_2019 = pd.read_excel('/content/drive/MyDrive/DAB103-DEMO/Project/trim_oct_dic_2019.xlsx', index_col=0)\n",
        "df_2020 = pd.read_excel('/content/drive/MyDrive/DAB103-DEMO/Project/trim_jan_mar_2020.xlsx', index_col=0)\n",
        "df_2021 = pd.read_excel('/content/drive/MyDrive/DAB103-DEMO/Project/trim_jan_mar_2021.xlsx', index_col=0)\n",
        "df_shares = pd.read_excel('/content/drive/MyDrive/DAB103-DEMO/Project/Shares_Companies.xlsx', index_col=0)\n",
        "\n",
        "#We reset indexes\n",
        "\n",
        "df_2019.reset_index(inplace = True)\n",
        "df_2020.reset_index(inplace = True)\n",
        "df_2021.reset_index(inplace = True)\n",
        "df_shares.reset_index(inplace = True)"
      ],
      "metadata": {
        "id": "XMFC3EYAVprR"
      },
      "execution_count": null,
      "outputs": []
    },
    {
      "cell_type": "code",
      "source": [
        "# We concat all datasets on the same dataframe\n",
        "data = pd.concat([df_2019, df_2020,df_2021], axis=1, join=\"inner\")\n",
        "\n"
      ],
      "metadata": {
        "id": "CMS4xWQyg0CG"
      },
      "execution_count": null,
      "outputs": []
    },
    {
      "cell_type": "code",
      "source": [
        "df2 = data.drop(data.columns[[7]],axis = 1)\n"
      ],
      "metadata": {
        "id": "SYobnsf4ON3n"
      },
      "execution_count": null,
      "outputs": []
    },
    {
      "cell_type": "code",
      "source": [
        "df2\n"
      ],
      "metadata": {
        "id": "r6zEkN01MncX"
      },
      "execution_count": null,
      "outputs": []
    },
    {
      "cell_type": "code",
      "source": [
        "df_2020_1er = df_2020_1er[df_2020_1er['Attributes'] == 'Close']\n",
        "df_2020_1er = df_2020_1er[['Symbols','Jan_2020']]\n",
        "df_2020_1er['Jan_2020'] = round(df_2020_1er['Jan_2020'],2)\n",
        "df_2020_1er = df_2020_1er.rename(columns={\"Jan_2020\": \"Jan_2020\"})\n",
        "\n",
        "df_2019_4to = df_2019_4to[df_2019_4to['Attributes'] == 'Close']\n",
        "df_2019_4to = df_2019_4to[['Symbols','Dic_2019']]\n",
        "df_2019_4to['Dic_2019'] = round(df_2019_4to['Dic_2019'],2)\n",
        "df_2019_4to = df_2019_4to.rename(columns={\"Dic_2019\": \"Dic_2019\"})\n",
        "\n",
        "df_2019_4to"
      ],
      "metadata": {
        "id": "cNT5mkmuaic8"
      },
      "execution_count": null,
      "outputs": []
    },
    {
      "cell_type": "code",
      "source": [
        "df_2021 = df_2021[df_2021['Attributes'] == 'Close']\n",
        "df_2021 = df_2021[['Symbols','Jan_2021']]\n",
        "df_2021['Jan_2021'] = round(df_2021['Jan_2021'],2)\n",
        "df_2021 = df_2021.rename(columns={\"Jan_2021\": \"Jan_2021\"})\n",
        "\n",
        "df_2021"
      ],
      "metadata": {
        "id": "-iTKB2G-b9wR"
      },
      "execution_count": null,
      "outputs": []
    },
    {
      "cell_type": "code",
      "source": [
        "#df_shares['Shares'].fillna(0)\n",
        "#df_shares['Shares'].astype(int)\n",
        "df_shares = df_shares.rename(columns={\"Symbol\": \"Symbols\"})\n",
        "#df_shares[df_shares['Symbol'] == 'OTIS']\n",
        "#df_shares.tail()"
      ],
      "metadata": {
        "id": "X92OC48p-QCx"
      },
      "execution_count": null,
      "outputs": []
    },
    {
      "cell_type": "code",
      "source": [
        "df_Avg_1 = df_2019_4to\n",
        "df_Avg_1['Jan_2020'] = df_2020_1er[['Jan_2020']]\n",
        "df_Avg_1['Jan_2021'] = df_2021[['Jan_2021']]\n",
        "\n",
        "df_Avg_1 = df_Avg_1.merge(df_shares, left_on='Symbols', right_on='Symbols', how='left')\n",
        "\n",
        "#df_Avg.merge(df_shares, on='Symbols', how='left')\n",
        "df_Avg_1.head()"
      ],
      "metadata": {
        "id": "0N1WY5tbV1v-"
      },
      "execution_count": null,
      "outputs": []
    },
    {
      "cell_type": "code",
      "source": [
        "# delete nan from dataset, it has to be an average of 3 filled columns:\n",
        "df_companies_na = df_Avg_1[df_Avg_1['Dic_2019'].isna() | df_Avg_1['Jan_2020'].isna() | df_Avg_1['Jan_2021'].isna()]\n",
        "print('Companies that were removed from dataset: ' + str(df_companies_na['Symbols'].unique()))"
      ],
      "metadata": {
        "id": "ir517elzHoZ_"
      },
      "execution_count": null,
      "outputs": []
    },
    {
      "cell_type": "code",
      "source": [
        "df_Avg_1 = df_Avg_1.dropna()\n",
        "df_Avg_1['Shares'] = df_Avg_1['Shares'].astype(int)\n",
        "df_Avg_1.head()"
      ],
      "metadata": {
        "id": "PgOWQ_6JBdZ6"
      },
      "execution_count": null,
      "outputs": []
    },
    {
      "cell_type": "code",
      "source": [
        "# adding the market cap:\n",
        "df_Avg_1[\"Marketcap_Dic_2019\"] = df_Avg_1[\"Dic_2019\"] * df_Avg_1[\"Shares\"]\n",
        "df_Avg_1[\"Marketcap_Dic_2019\"] = df_Avg_1[\"Marketcap_Dic_2019\"].astype(int)\n",
        "\n",
        "df_Avg_1[\"Marketcap_Jan_2020\"] = df_Avg_1[\"Jan_2020\"] * df_Avg_1[\"Shares\"]\n",
        "df_Avg_1[\"Marketcap_Jan_2020\"] = df_Avg_1[\"Marketcap_Jan_2020\"].astype(int)\n",
        "\n",
        "df_Avg_1[\"Marketcap_Jan_2021\"] = df_Avg_1[\"Jan_2021\"] * df_Avg_1[\"Shares\"]\n",
        "df_Avg_1[\"Marketcap_Jan_2021\"] = df_Avg_1[\"Marketcap_Jan_2021\"].astype(int)\n",
        "\n",
        "df_Avg_1.head()"
      ],
      "metadata": {
        "id": "_-wsUaiSiVy3"
      },
      "execution_count": null,
      "outputs": []
    },
    {
      "cell_type": "code",
      "source": [
        "# change en el market cap:\n",
        "df_Avg_1[\"%Marketcap_Jan_2020_Dic_2019\"] = (df_Avg_1[\"Marketcap_Jan_2020\"] - df_Avg_1[\"Marketcap_Dic_2019\"]) / df_Avg_1[\"Marketcap_Dic_2019\"]*100\n",
        "df_Avg_1[\"%Marketcap_Jan_2021_Jan_2020\"] = (df_Avg_1[\"Marketcap_Jan_2021\"] - df_Avg_1[\"Marketcap_Jan_2020\"]) / df_Avg_1[\"Marketcap_Jan_2020\"]*100\n",
        "df_Avg_1[\"%Marketcap_Jan_2021_Dic_2019\"] = (df_Avg_1[\"Marketcap_Jan_2021\"] - df_Avg_1[\"Marketcap_Dic_2019\"]) / df_Avg_1[\"Marketcap_Dic_2019\"]*100"
      ],
      "metadata": {
        "id": "CcKkhLX1GPRq"
      },
      "execution_count": null,
      "outputs": []
    },
    {
      "cell_type": "code",
      "source": [
        "# % change stock prices:\n",
        "df_Avg_1[\"PercentageChange_Jan_2020_Dic_2019\"] = (df_Avg_1[\"Jan_2020\"] - df_Avg_1[\"Dic_2019\"]) / df_Avg_1[\"Dic_2019\"]*100\n",
        "df_Avg_1[\"PercentageChange_Jan_2021_Jan_2020\"] = (df_Avg_1[\"Jan_2021\"] - df_Avg_1[\"Jan_2020\"]) / df_Avg_1[\"Jan_2020\"]*100\n",
        "df_Avg_1[\"PercentageChange_Jan_2021_Dic_2019\"] = (df_Avg_1[\"Jan_2021\"] - df_Avg_1[\"Dic_2019\"]) / df_Avg_1[\"Dic_2019\"]*100\n",
        "df_Avg_1"
      ],
      "metadata": {
        "id": "767yZssUL5vs"
      },
      "execution_count": null,
      "outputs": []
    },
    {
      "cell_type": "code",
      "source": [
        "# Change in total market cap:\n",
        "sum(df_Avg_1['Marketcap_Jan_2020'] - df_Avg_1[\"Marketcap_Dic_2019\"]) / 10**9"
      ],
      "metadata": {
        "id": "IcPN6DmhKhqV"
      },
      "execution_count": null,
      "outputs": []
    },
    {
      "cell_type": "code",
      "source": [
        "sum(df_Avg_1[\"Marketcap_Jan_2021\"] - df_Avg_1[\"Marketcap_Jan_2020\"]) / 10**9"
      ],
      "metadata": {
        "id": "PpABQ8MdKyLc"
      },
      "execution_count": null,
      "outputs": []
    },
    {
      "cell_type": "code",
      "source": [
        "sum(df_Avg_1[\"Marketcap_Jan_2021\"] - df_Avg_1[\"Marketcap_Dic_2019\"]) / 10**9"
      ],
      "metadata": {
        "id": "FhyltADtkbgz"
      },
      "execution_count": null,
      "outputs": []
    },
    {
      "cell_type": "code",
      "source": [
        "stocks_df = stocks_df.merge(df_Avg_1, left_on='Symbol', right_on='Symbols', how='left', suffixes=('_x', ''))\n",
        "stocks_df"
      ],
      "metadata": {
        "id": "6CDMiZEeR9Pz"
      },
      "execution_count": null,
      "outputs": []
    },
    {
      "cell_type": "code",
      "source": [
        "# Change in total market by sector:\n",
        "(stocks_df.groupby(\"GICS Sector\").sum()[\"Marketcap_Jan_2020\"] - stocks_df.groupby(\"GICS Sector\").sum()[\"Marketcap_Dic_2019\"]).sort_values() / 10**9"
      ],
      "metadata": {
        "id": "p-Jukg7IQXNx"
      },
      "execution_count": null,
      "outputs": []
    },
    {
      "cell_type": "code",
      "source": [
        "(stocks_df.groupby(\"GICS Sector\").sum()[\"Marketcap_Jan_2021\"] - stocks_df.groupby(\"GICS Sector\").sum()[\"Marketcap_Jan_2020\"]).sort_values() / 10**9"
      ],
      "metadata": {
        "id": "s9qelB2ESzot"
      },
      "execution_count": null,
      "outputs": []
    },
    {
      "cell_type": "code",
      "source": [
        "# Companies by percentage change stock:\n",
        "stocks_df.sort_values(by=[\"PercentageChange_Jan_2020_Dic_2019\"])[[\"Security\", \"PercentageChange_Jan_2020_Dic_2019\"]].head(5)"
      ],
      "metadata": {
        "id": "iCWX0TJDTDLx"
      },
      "execution_count": null,
      "outputs": []
    },
    {
      "cell_type": "code",
      "source": [
        "print(sum(stocks_df[\"PercentageChange_Jan_2020_Dic_2019\"] < 0))\n",
        "print(sum(stocks_df[\"PercentageChange_Jan_2020_Dic_2019\"] > 0))"
      ],
      "metadata": {
        "id": "wB9rwBmXTbQ7"
      },
      "execution_count": null,
      "outputs": []
    },
    {
      "cell_type": "code",
      "source": [
        "# % change of stock by sector:\n",
        "stocks_df.groupby(\"GICS Sector\").mean()['PercentageChange_Jan_2020_Dic_2019'].sort_values()"
      ],
      "metadata": {
        "id": "NqwyioqzTkx-"
      },
      "execution_count": null,
      "outputs": []
    },
    {
      "cell_type": "code",
      "source": [
        "stocks_df.groupby(\"GICS Sub-Industry\").mean()['PercentageChange_Jan_2020_Dic_2019'].sort_values()"
      ],
      "metadata": {
        "id": "b9-ergONTtdc"
      },
      "execution_count": null,
      "outputs": []
    },
    {
      "cell_type": "code",
      "source": [
        "print(sum(stocks_df.groupby(\"GICS Sub-Industry\").mean()['PercentageChange_Jan_2020_Dic_2019'] < 0))\n",
        "print(sum(stocks_df.groupby(\"GICS Sub-Industry\").mean()['PercentageChange_Jan_2020_Dic_2019'] > 0))"
      ],
      "metadata": {
        "id": "zM53uHnDT62e"
      },
      "execution_count": null,
      "outputs": []
    }
  ]
}